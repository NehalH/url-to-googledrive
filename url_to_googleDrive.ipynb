{
  "nbformat": 4,
  "nbformat_minor": 0,
  "metadata": {
    "colab": {
      "provenance": [],
      "authorship_tag": "ABX9TyPV5JXINQnEncqYUGhB6KQg",
      "include_colab_link": true
    },
    "kernelspec": {
      "name": "python3",
      "display_name": "Python 3"
    },
    "language_info": {
      "name": "python"
    }
  },
  "cells": [
    {
      "cell_type": "markdown",
      "metadata": {
        "id": "view-in-github",
        "colab_type": "text"
      },
      "source": [
        "<a href=\"https://colab.research.google.com/github/NehalH/url_to_googleDrive/blob/main/url_to_googleDrive.ipynb\" target=\"_parent\"><img src=\"https://colab.research.google.com/assets/colab-badge.svg\" alt=\"Open In Colab\"/></a>"
      ]
    },
    {
      "cell_type": "markdown",
      "source": [
        "# **URL to GoogleDrive**\n",
        "---\n",
        "\n",
        "Upload files remotely to your google drive without downloading them locally.\n",
        "\n",
        "Steps to use:\n",
        "\n",
        "1. Run `code cell 1` (Mounts the drive and perform the authorization steps)\n",
        "2. Set the necessary *url* and *file destination paths* ( `Code cell 2` )\n",
        "3. Run `code cell 3` (*Downloads* the files to drive)\n",
        "4. Run `code cell 4` (*Unzip* the files if necessary)\n",
        "5. Run `code cell 5` to instantly sync changed to cloud drive.\n",
        "\n",
        "\n",
        "\n"
      ],
      "metadata": {
        "id": "NeLyrIIPpIW8"
      }
    },
    {
      "cell_type": "markdown",
      "source": [
        "##Mount Drive"
      ],
      "metadata": {
        "id": "k0Ad4MN-rLXp"
      }
    },
    {
      "cell_type": "code",
      "execution_count": null,
      "metadata": {
        "id": "d4qFwhPSmuRC"
      },
      "outputs": [],
      "source": [
        "# Mount drive\n",
        "from google.colab import drive\n",
        "\n",
        "drive.mount('/content/drive')"
      ]
    },
    {
      "cell_type": "markdown",
      "source": [
        "##Set paths"
      ],
      "metadata": {
        "id": "SgggDO9unyi8"
      }
    },
    {
      "cell_type": "code",
      "source": [
        "\n",
        "# Define the download URL of the file\n",
        "file_download_url = \"https://example.url\"\n",
        "\n",
        "# Define the path where you want to save the file\n",
        "file_path = \"/content/drive/MyDrive/example\"\n",
        "\n",
        "# Define the path where you want to extract the files (If file needs to be unzipped)\n",
        "extracted_folder_path = \"/content/drive/MyDrive/example_folder\""
      ],
      "metadata": {
        "id": "4OdtaVuKm0xi"
      },
      "execution_count": null,
      "outputs": []
    },
    {
      "cell_type": "markdown",
      "source": [
        "##Download the file"
      ],
      "metadata": {
        "id": "ZrCLc1XUnuB9"
      }
    },
    {
      "cell_type": "code",
      "source": [
        "from tqdm import tqdm\n",
        "import requests\n",
        "import io\n",
        "import shutil\n",
        "\n",
        "# Download the zip file from the URL\n",
        "response = requests.get(file_download_url, stream=True)\n",
        "total_size = int(response.headers.get('content-length', 0))  # Get the total file size\n",
        "chunk_size = 1024  # Set chunk size\n",
        "\n",
        "with open(file_path, \"wb\") as the_file, tqdm(\n",
        "    desc=\"Downloading\", total=total_size, unit=\"B\", unit_scale=True\n",
        ") as progress_bar:\n",
        "    for data in response.iter_content(chunk_size=chunk_size):\n",
        "        the_file.write(data)\n",
        "        progress_bar.update(len(data))  # Update the progress bar\n"
      ],
      "metadata": {
        "id": "UI_TEAPKnaT_"
      },
      "execution_count": null,
      "outputs": []
    },
    {
      "cell_type": "markdown",
      "source": [
        "##Unzip file (If necessary)"
      ],
      "metadata": {
        "id": "6KEymfbwocqh"
      }
    },
    {
      "cell_type": "code",
      "source": [
        "import zipfile\n",
        "from tqdm import tqdm\n",
        "\n",
        "# Unzip the downloaded file\n",
        "with zipfile.ZipFile(file_path, 'r') as zip_ref:\n",
        "    file_list = zip_ref.namelist()  # Get the list of files in the zip archive\n",
        "    num_files = len(file_list)\n",
        "    with tqdm(total=num_files, desc=\"Extracting\") as pbar:  # Initialize tqdm progress bar\n",
        "        for file in file_list:\n",
        "            zip_ref.extract(file, extracted_folder_path)  # Extract each file\n",
        "            pbar.update(1)  # Update progress bar for each extracted file"
      ],
      "metadata": {
        "id": "1_1_PQXYobBM"
      },
      "execution_count": null,
      "outputs": []
    },
    {
      "cell_type": "markdown",
      "source": [
        "##Unmount and sync to drive"
      ],
      "metadata": {
        "id": "cnYmPGyZrGvI"
      }
    },
    {
      "cell_type": "code",
      "source": [
        "# Unmount Google Drive\n",
        "drive.flush_and_unmount()"
      ],
      "metadata": {
        "id": "f5aCs-G9o2Zp"
      },
      "execution_count": null,
      "outputs": []
    }
  ]
}